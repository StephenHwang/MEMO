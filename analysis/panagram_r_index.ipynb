{
 "cells": [
  {
   "cell_type": "markdown",
   "id": "e43a7b9b-9300-4aa9-919d-aa97cddbba88",
   "metadata": {},
   "source": [
    "# Panagram + r-index"
   ]
  },
  {
   "cell_type": "code",
   "execution_count": 1,
   "id": "2218e178-e15d-42ba-893e-12947702e8f0",
   "metadata": {},
   "outputs": [],
   "source": [
    "from dash import Dash, dcc, html, Input, Output\n",
    "import subprocess\n",
    "import plotly.graph_objects as go\n",
    "import numpy as np\n",
    "from collections import Counter\n"
   ]
  },
  {
   "cell_type": "code",
   "execution_count": 2,
   "id": "7f6703a5-3da6-4790-ad00-33545f9d79d6",
   "metadata": {},
   "outputs": [],
   "source": [
    "num_docs = 4\n",
    "colors = ['#fde725', '#5cc863', '#21908d', '#3b518b', '#440154']\n"
   ]
  },
  {
   "cell_type": "code",
   "execution_count": 3,
   "id": "3d5d87af-2c5c-480c-b494-66aafd565a91",
   "metadata": {},
   "outputs": [],
   "source": [
    "def call_query(genome_region, k, data_path):\n",
    "    start, end = genome_region\n",
    "    region = \"NZ_CP015023.1:\" + str(start) + \"-\" + str(end)\n",
    "    cmd = [\n",
    "        \"/home/stephen/Documents/projects/langmead_lab/omem/src/query.sh\",\n",
    "        \"-k\", str(k),\n",
    "        \"-n\", \"4\",\n",
    "        \"-o\", data_path,\n",
    "        \"-r\", \"omem_olaps_NZ_CP015023.1_0_5506800.bed\"\n",
    "        ]\n",
    "    subprocess.check_call(cmd)\n",
    "    return 1\n"
   ]
  },
  {
   "cell_type": "code",
   "execution_count": 4,
   "id": "20b0e270-fcf2-4877-bb9c-d0f31c99e0a7",
   "metadata": {},
   "outputs": [],
   "source": [
    "\n",
    "def update_data(genome_region, k, n_bins, data_path):\n",
    "    #call_query(genome_region, k, data_path)\n",
    "    MEM_bed_path = data_path + 'omem_' + str(k) + 'mer.bed'\n",
    "    mem_bed = pd.read_csv(MEM_bed_path, sep='\\t', header=None, names=['chrm', 'start', 'end', 'order'])\n",
    "    positions = list(mem_bed.index)\n",
    "    num_orders = len(set(mem_bed['order']))\n",
    "    mem_bed_order_matrix = np.zeros((num_orders+1, len(positions)))\n",
    "\n",
    "    for order in range(num_orders):\n",
    "        mem_bed_order_subset = mem_bed[mem_bed['order'] == order+1]\n",
    "        for start, end in zip(mem_bed_order_subset['start'], mem_bed_order_subset['end']):\n",
    "            mem_bed_order_matrix[order, start:end] = 1\n",
    "    \n",
    "    mem_bed_order_matrix[order+1,:] = 1\n",
    "    num_docs_per_pos = np.argmax(mem_bed_order_matrix, axis=0)\n",
    "\n",
    "    per_bin_doc_composition_list = []\n",
    "    bin_space = list(map(int,np.linspace(0, len(positions), n_bins)))\n",
    "\n",
    "    for bin_idx, start_end in enumerate(list(zip(bin_space[:-1], bin_space[1:]))):\n",
    "        bin_start, bin_end = start_end\n",
    "        doc_count_per_order_in_bin = Counter(num_docs_per_pos[bin_start : bin_end])\n",
    "        for doc_no_count in set(range(0,num_docs+1)) - set(doc_count_per_order_in_bin.keys()):\n",
    "            doc_count_per_order_in_bin[doc_no_count] = 0\n",
    "        normalized_doc_count_per_order_in_bin = [(order, cnt/sum(doc_count_per_order_in_bin.values())) for order, cnt in doc_count_per_order_in_bin.items()]\n",
    "        normalized_doc_count_per_order_in_bin_in_sorted_order_mem_order = sorted(normalized_doc_count_per_order_in_bin, key=lambda x: x[0])   # sorting by order\n",
    "        per_bin_doc_composition_list.append([bin_idx]+[norm_cnt[1] for norm_cnt in normalized_doc_count_per_order_in_bin_in_sorted_order_mem_order])\n",
    "\n",
    "    cnames = ['pos', '1', '2', '3', '4', '5']\n",
    "    per_bin_doc_composition_df = pd.DataFrame(per_bin_doc_composition_list, columns=cnames)\n",
    "    per_bin_doc_composition_df = pd.melt(per_bin_doc_composition_df, id_vars=['pos'], value_vars=cnames[1:])\n",
    "    per_bin_doc_composition_df.columns = ['bin','Num docs','value']\n",
    "\n",
    "    per_bin_doc_composition_df['Num docs'] = pd.Categorical(per_bin_doc_composition_df['Num docs'], categories=cnames[:0:-1])\n",
    "\n",
    "    return per_bin_doc_composition_df"
   ]
  },
  {
   "cell_type": "code",
   "execution_count": null,
   "id": "4b3b6455-300c-4827-8765-98688130f2b0",
   "metadata": {},
   "outputs": [
    {
     "name": "stdout",
     "output_type": "stream",
     "text": [
      "Dash is running on http://127.0.0.1:8050/\n",
      "\n",
      " * Serving Flask app '__main__' (lazy loading)\n",
      " * Environment: production\n",
      "\u001b[31m   WARNING: This is a development server. Do not use it in a production deployment.\u001b[0m\n",
      "\u001b[2m   Use a production WSGI server instead.\u001b[0m\n",
      " * Debug mode: on\n"
     ]
    }
   ],
   "source": [
    "app = Dash(__name__)\n",
    "\n",
    "genome_size = 5506800\n",
    "data_path = '/home/stephen/Documents/projects/langmead_lab/omem/data/example_dap/'\n",
    "\n",
    "app.layout = html.Div([\n",
    "    html.H4('Panagram + r-index'),\n",
    "    html.P(\"Genome region:\"),\n",
    "    dcc.RangeSlider(0, genome_size, value=[0, genome_size], allowCross=False, id=\"genome_region\"),\n",
    "    html.P(\"Number bins:\"),\n",
    "    #dcc.Input(id=\"n_bins\", type=\"number\", value=700, debounce=True, placeholder=\"Number of bins\"),\n",
    "    dcc.Input(id=\"n_bins\", type=\"number\", value=700, placeholder=\"Number of bins\"),\n",
    "    html.P(\"K:\"),\n",
    "    dcc.Input(id=\"K_slider\", type=\"number\", value=12, placeholder=\"K:\"),\n",
    "    #dcc.Slider(min=10, max=20, value=12, step=1, id=\"K_slider\"),\n",
    "    dcc.Graph(id=\"panagram_graph\")\n",
    "])\n",
    "\n",
    "@app.callback(\n",
    "    Output(\"panagram_graph\", \"figure\"),\n",
    "    Input('genome_region', 'value'),    # genome region\n",
    "    Input(\"K_slider\", \"value\"),         # k\n",
    "    Input(\"n_bins\", \"value\"))           # n_bins\n",
    "def update_bar_chart(genome_region, k, n_bins, data_path=data_path):\n",
    "    start, end = genome_region\n",
    "    # run query\n",
    "    data = update_data(genome_region, k, n_bins, data_path)\n",
    "\n",
    "    fig = go.Figure()\n",
    "    for doc_idx in range(1, num_docs+2):\n",
    "        doc_data = data[data['Num docs'] == str(doc_idx)]\n",
    "        x, y = doc_data['bin'], doc_data['value']\n",
    "        color = dict(color=colors[doc_idx-1])\n",
    "        name = str(doc_idx)\n",
    "\n",
    "        fig.add_trace(go.Bar(x=x, y=y, name = name,\n",
    "                             legendgroup=\"Num docs\",\n",
    "                             legendgrouptitle_text=\"Num docs\",\n",
    "                             marker=color,\n",
    "                             marker_line=color))\n",
    "\n",
    "    fig.update_layout(barmode='stack', bargap=0.0, template=\"simple_white\",\n",
    "                      title={'text': str(k) + '-mers conservation',\n",
    "                            'x':0.5, 'xanchor': 'center', \n",
    "                            'yanchor': 'bottom'})\n",
    "    \n",
    "    fig.update_xaxes(title_text=\"Position\",\n",
    "                     tickvals = np.linspace(0, n_bins-2, num=10),\n",
    "                     ticktext = list(map(int, np.linspace(0, genome_region[1], num=10)))\n",
    "                     )\n",
    "    fig.update_yaxes(title_text=\"Proportion k-mers conserved\")\n",
    "\n",
    "    return fig\n",
    "\n",
    "app.run_server(debug=True,  use_reloader=False)"
   ]
  },
  {
   "cell_type": "code",
   "execution_count": null,
   "id": "aa063762-353a-44d3-b2f8-00e489bd8b83",
   "metadata": {},
   "outputs": [],
   "source": []
  },
  {
   "cell_type": "code",
   "execution_count": null,
   "id": "e048278f-0abf-4f0d-bedb-e9e68b066064",
   "metadata": {},
   "outputs": [],
   "source": []
  },
  {
   "cell_type": "code",
   "execution_count": null,
   "id": "9576343d-abd6-418e-a061-5296ec263285",
   "metadata": {},
   "outputs": [],
   "source": [
    "genome_region = [0, genome_size]\n",
    "k = 12\n",
    "n_bins = 700\n",
    "update_data(genome_region, k, n_bins, data_path)"
   ]
  }
 ],
 "metadata": {
  "kernelspec": {
   "display_name": "Python 3",
   "language": "python",
   "name": "python3"
  },
  "language_info": {
   "codemirror_mode": {
    "name": "ipython",
    "version": 3
   },
   "file_extension": ".py",
   "mimetype": "text/x-python",
   "name": "python",
   "nbconvert_exporter": "python",
   "pygments_lexer": "ipython3",
   "version": "3.9.7"
  }
 },
 "nbformat": 4,
 "nbformat_minor": 5
}
